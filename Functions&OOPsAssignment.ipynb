{
  "nbformat": 4,
  "nbformat_minor": 0,
  "metadata": {
    "colab": {
      "provenance": []
    },
    "kernelspec": {
      "name": "python3",
      "display_name": "Python 3"
    },
    "language_info": {
      "name": "python"
    }
  },
  "cells": [
    {
      "cell_type": "markdown",
      "source": [
        "**Q1) Explain the Importance of Functions.**\n",
        "\n",
        "1. **Modularity**: Functions allow breaking down code into smaller, manageable pieces, enhancing organization and readability.\n",
        "\n",
        "2. **Reusability**: Once defined, functions can be reused multiple times, promoting efficiency and reducing redundant code.\n",
        "\n",
        "3. **Abstraction**: Functions encapsulate complex operations, providing a simplified interface and improving code comprehension.\n",
        "\n",
        "4. **Organization**: Functions aid in structuring code effectively by grouping related functionality together.\n",
        "\n",
        "5. **Scalability**: Adding new functions to handle additional tasks facilitates incremental development and code expansion.\n",
        "\n",
        "6. **Testing**: Functions enable unit testing, allowing for the isolation and verification of specific functionality.\n",
        "\n",
        "7. **Code Readability**: Well-defined functions with descriptive names and documentation enhance code readability and understanding.\n",
        "\n",
        "8. **Code Reusability**: Encapsulating tasks within functions promotes code reuse across different parts of the program or other projects."
      ],
      "metadata": {
        "id": "C8YnK8D-OfgY"
      }
    },
    {
      "cell_type": "markdown",
      "source": [],
      "metadata": {
        "id": "f-GX7KS61_wr"
      }
    },
    {
      "cell_type": "markdown",
      "source": [
        "**Q2) Write a basic function to greet students.**"
      ],
      "metadata": {
        "id": "5SI3IxC1PPQG"
      }
    },
    {
      "cell_type": "code",
      "source": [
        "def greet(name):\n",
        "  print(f\"Hello, {name}!\")\n",
        "\n",
        "greet(\"Naman\")"
      ],
      "metadata": {
        "colab": {
          "base_uri": "https://localhost:8080/"
        },
        "id": "fZvmefDePZeT",
        "outputId": "bd45877b-f474-4f00-b0ec-701aa642b935"
      },
      "execution_count": null,
      "outputs": [
        {
          "output_type": "stream",
          "name": "stdout",
          "text": [
            "Hello, Naman!\n"
          ]
        }
      ]
    },
    {
      "cell_type": "markdown",
      "source": [
        "**Q3) What is the difference between Print and Return Statement.**\n",
        "\n",
        "- `print` statement: Used to display output to the console. It does not affect the flow of the program and does not return any value.\n",
        "- `return` statement: Used to exit a function and return a value to the caller. It terminates the function's execution and passes a value back to the calling code for further use."
      ],
      "metadata": {
        "id": "61fkBmL9Qs4r"
      }
    },
    {
      "cell_type": "markdown",
      "source": [
        "***Q4) What are **args and **kwargs?**\n",
        "\n",
        "- `*args`: Used to pass a variable number of positional arguments to a function. Arguments are collected into a tuple.\n",
        "- `**kwargs`: Used to pass a variable number of keyword arguments to a function. Arguments are collected into a dictionary.\n",
        "\n",
        "They provide flexibility in function definitions when the number of arguments is not known in advance."
      ],
      "metadata": {
        "id": "UJV6KGQURARe"
      }
    },
    {
      "cell_type": "markdown",
      "source": [
        "**Q5) Explain the Iterator function.**\n",
        "\n",
        "An iterator in Python is an object that allows traversal through elements of a collection. It's implemented using the `__iter__()` and `__next__()` methods. The `iter()` function creates an iterator from an iterable, and `next()` retrieves the next element from the iterator. Iterators are used for efficient traversal of large datasets and lazy evaluation."
      ],
      "metadata": {
        "id": "X0WnWkwVRrQX"
      }
    },
    {
      "cell_type": "markdown",
      "source": [
        "**Q6) Write a code that generates the square of numbers from 1 to n using a generator.**"
      ],
      "metadata": {
        "id": "M8w1e4tJOrgq"
      }
    },
    {
      "cell_type": "code",
      "source": [
        "def generate_squares(n):\n",
        "    for i in range(1, n + 1):\n",
        "        yield i ** 2\n",
        "\n",
        "n = int(input(\"Enter a number:\"))\n",
        "square_generator = generate_squares(n)\n",
        "\n",
        "for square in square_generator:\n",
        "    print(square)"
      ],
      "metadata": {
        "colab": {
          "base_uri": "https://localhost:8080/"
        },
        "id": "mZHm89GWVU-0",
        "outputId": "613e92d8-f207-4cc4-97d1-344b28f3c727"
      },
      "execution_count": null,
      "outputs": [
        {
          "output_type": "stream",
          "name": "stdout",
          "text": [
            "Enter a number:5\n",
            "1\n",
            "4\n",
            "9\n",
            "16\n",
            "25\n"
          ]
        }
      ]
    },
    {
      "cell_type": "markdown",
      "source": [
        "**Q7) Write a code that generates palindromic numbers up to n using a generator.**"
      ],
      "metadata": {
        "id": "SOCgdf-WZMvR"
      }
    },
    {
      "cell_type": "code",
      "source": [
        "def is_palindrome(number):\n",
        "    return str(number) == str(number)[::-1]\n",
        "\n",
        "def generate_palindromes(n):\n",
        "    for num in range(1, n + 1):\n",
        "        if is_palindrome(num):\n",
        "            yield num\n",
        "\n",
        "n = int(input(\"Enter a number:\"))\n",
        "palindrome_generator = generate_palindromes(n)\n",
        "\n",
        "for palindrome in palindrome_generator:\n",
        "    print(palindrome)"
      ],
      "metadata": {
        "colab": {
          "base_uri": "https://localhost:8080/"
        },
        "id": "Kpcf5iiAZmCL",
        "outputId": "1d7c9958-093e-42e1-d658-9c8478ed0554"
      },
      "execution_count": null,
      "outputs": [
        {
          "output_type": "stream",
          "name": "stdout",
          "text": [
            "Enter a number:101\n",
            "1\n",
            "2\n",
            "3\n",
            "4\n",
            "5\n",
            "6\n",
            "7\n",
            "8\n",
            "9\n",
            "11\n",
            "22\n",
            "33\n",
            "44\n",
            "55\n",
            "66\n",
            "77\n",
            "88\n",
            "99\n",
            "101\n"
          ]
        }
      ]
    },
    {
      "cell_type": "markdown",
      "source": [
        "**Q8) Write a code that generates even numbers from 2 to n using a generator.**"
      ],
      "metadata": {
        "id": "yErIes6Edouw"
      }
    },
    {
      "cell_type": "code",
      "source": [
        "def generate_even_numbers(n):\n",
        "    for num in range(2, n + 1, 2):\n",
        "        yield num\n",
        "\n",
        "n = int(input(\"Enter a number:\"))\n",
        "even_generator = generate_even_numbers(n)\n",
        "\n",
        "for even_number in even_generator:\n",
        "    print(even_number)"
      ],
      "metadata": {
        "colab": {
          "base_uri": "https://localhost:8080/"
        },
        "id": "W6Fb9g2vd7Mf",
        "outputId": "03b35830-6316-41b9-a1a7-fe6878b8b814"
      },
      "execution_count": null,
      "outputs": [
        {
          "output_type": "stream",
          "name": "stdout",
          "text": [
            "Enter a number:20\n",
            "2\n",
            "4\n",
            "6\n",
            "8\n",
            "10\n",
            "12\n",
            "14\n",
            "16\n",
            "18\n",
            "20\n"
          ]
        }
      ]
    },
    {
      "cell_type": "markdown",
      "source": [
        "**Q9) Write a code that generates powers of two upto n using a generator.**"
      ],
      "metadata": {
        "id": "_SGjmu6oghQH"
      }
    },
    {
      "cell_type": "code",
      "source": [
        "def generate_powers_of_two(n):\n",
        "    power = 1\n",
        "    while power <= n:\n",
        "        yield power\n",
        "        power *= 2\n",
        "\n",
        "n = int(input(\"Enter a number:\"))\n",
        "power_generator = generate_powers_of_two(n)\n",
        "\n",
        "for power in power_generator:\n",
        "    print(power)"
      ],
      "metadata": {
        "colab": {
          "base_uri": "https://localhost:8080/"
        },
        "id": "cqjLsQR4g8R0",
        "outputId": "ebdba03e-12c3-473d-8be5-a24c8b2747c1"
      },
      "execution_count": null,
      "outputs": [
        {
          "output_type": "stream",
          "name": "stdout",
          "text": [
            "Enter a number:10\n",
            "1\n",
            "2\n",
            "4\n",
            "8\n"
          ]
        }
      ]
    },
    {
      "cell_type": "markdown",
      "source": [
        "**Q10) Write a code that generates prime numbers upto n using a generator.**"
      ],
      "metadata": {
        "id": "mMbcfgPbh37M"
      }
    },
    {
      "cell_type": "code",
      "source": [
        "def generate_primes(n):\n",
        "    primes = []\n",
        "    for num in range(2, n + 1):\n",
        "        is_prime = True\n",
        "        for prime in primes:\n",
        "            if num % prime == 0:\n",
        "                is_prime = False\n",
        "                break\n",
        "        if is_prime:\n",
        "            primes.append(num)\n",
        "            yield num\n",
        "\n",
        "n = int(input(\"Enter a number:\"))\n",
        "prime_generator = generate_primes(n)\n",
        "\n",
        "for prime in prime_generator:\n",
        "    print(prime)"
      ],
      "metadata": {
        "colab": {
          "base_uri": "https://localhost:8080/"
        },
        "id": "HkB7v9UmkHT0",
        "outputId": "6054e9e3-261f-4121-8e45-698e08623ce2"
      },
      "execution_count": null,
      "outputs": [
        {
          "output_type": "stream",
          "name": "stdout",
          "text": [
            "Enter a number:50\n",
            "2\n",
            "3\n",
            "5\n",
            "7\n",
            "11\n",
            "13\n",
            "17\n",
            "19\n",
            "23\n",
            "29\n",
            "31\n",
            "37\n",
            "41\n",
            "43\n",
            "47\n"
          ]
        }
      ]
    },
    {
      "cell_type": "markdown",
      "source": [
        "**Q11) Write a code that uses lambda function to calculate the sum of two numbers.**"
      ],
      "metadata": {
        "id": "ZYHporDUl0-o"
      }
    },
    {
      "cell_type": "code",
      "source": [
        "sum_function = lambda x, y: x + y\n",
        "\n",
        "num1 = int(input(\"Enter the first number: \"))\n",
        "num2 = int(input(\"Enter the second number: \"))\n",
        "\n",
        "print(f\"The sum of {num1} and {num2} is: {sum_function(num1, num2)}\")"
      ],
      "metadata": {
        "colab": {
          "base_uri": "https://localhost:8080/"
        },
        "id": "DCyIy3N7pLFb",
        "outputId": "287794cb-43a1-4735-e204-70a88622cdf6"
      },
      "execution_count": null,
      "outputs": [
        {
          "output_type": "stream",
          "name": "stdout",
          "text": [
            "Enter the first number: 5\n",
            "Enter the second number: 3\n",
            "The sum of 5 and 3 is: 8\n"
          ]
        }
      ]
    },
    {
      "cell_type": "markdown",
      "source": [
        "**Q12) Write a code that uses lambda function to calculate the square of a given number.**"
      ],
      "metadata": {
        "id": "GZJCQQwtpcaF"
      }
    },
    {
      "cell_type": "code",
      "source": [
        "square_function = lambda x : x**2\n",
        "\n",
        "num = int(input(\"Enter a number:\"))\n",
        "print(f\"The square of the number {num} is {square_function(num)}\")"
      ],
      "metadata": {
        "colab": {
          "base_uri": "https://localhost:8080/"
        },
        "id": "Cjkwx9aJpxBo",
        "outputId": "d59f7539-881b-44e1-957c-551409377b27"
      },
      "execution_count": null,
      "outputs": [
        {
          "output_type": "stream",
          "name": "stdout",
          "text": [
            "Enter a number:4\n",
            "The square of the number 4 is 16\n"
          ]
        }
      ]
    },
    {
      "cell_type": "markdown",
      "source": [
        "**Q13) Write a code that uses lambda function to check whether a given number is even or odd.**"
      ],
      "metadata": {
        "id": "KKgHDDn4q9fN"
      }
    },
    {
      "cell_type": "code",
      "source": [
        "check_number = lambda x : x%2 == 0\n",
        "\n",
        "num = int(input(\"Enter a number:\"))\n",
        "if check_number(num):\n",
        "  print(f\"The {num} is even.\")\n",
        "else:\n",
        "  print(f\"The {num} is odd.\")"
      ],
      "metadata": {
        "colab": {
          "base_uri": "https://localhost:8080/"
        },
        "id": "AwmzypZ5rNN7",
        "outputId": "1d4b2319-1f79-4001-f17b-ba857f354ef2"
      },
      "execution_count": null,
      "outputs": [
        {
          "output_type": "stream",
          "name": "stdout",
          "text": [
            "Enter a number:8\n",
            "The 8 is even.\n"
          ]
        }
      ]
    },
    {
      "cell_type": "markdown",
      "source": [
        "**Q15) Write a code that uses lambda function to concatenate two strings.**"
      ],
      "metadata": {
        "id": "FPKngjmbsrZA"
      }
    },
    {
      "cell_type": "code",
      "source": [
        "concatenate_strings = lambda x , y : x+y\n",
        "\n",
        "string1 = str(input(\"Enter string1: \"))\n",
        "string2 = str(input(\"Enter string2: \"))\n",
        "\n",
        "print(f\"The concatenated string = {concatenate_strings(string1,string2)}\")"
      ],
      "metadata": {
        "colab": {
          "base_uri": "https://localhost:8080/"
        },
        "id": "DxG4wF9stA-T",
        "outputId": "51debbaa-75ef-428c-eb83-b6d3311c41fe"
      },
      "execution_count": null,
      "outputs": [
        {
          "output_type": "stream",
          "name": "stdout",
          "text": [
            "Enter string1: PW\n",
            "Enter string2: Skills\n",
            "The concatenated string = PWSkills\n"
          ]
        }
      ]
    },
    {
      "cell_type": "markdown",
      "source": [
        "**Q16) Write a code that uses a lambda function to find maximum of three given numbers.**"
      ],
      "metadata": {
        "id": "JsWfB69IuB_4"
      }
    },
    {
      "cell_type": "code",
      "source": [
        "find_maximum = lambda x , y , z : max(x, y, z)\n",
        "\n",
        "num1 = int(input(\"Enter the first number: \"))\n",
        "num2 = int(input(\"Enter the second number: \"))\n",
        "num3 = int(input(\"Enter the third number: \"))\n",
        "\n",
        "print(f\"The maximum of {num1}, {num2}, and {num3} is: {find_maximum(num1, num2, num3)}\")"
      ],
      "metadata": {
        "colab": {
          "base_uri": "https://localhost:8080/"
        },
        "id": "T0az9a5xuRcq",
        "outputId": "94583fcd-ce46-471f-8245-d09620ea14c0"
      },
      "execution_count": null,
      "outputs": [
        {
          "output_type": "stream",
          "name": "stdout",
          "text": [
            "Enter the first number: 5\n",
            "Enter the second number: 3\n",
            "Enter the third number: 9\n",
            "The maximum of 5, 3, and 9 is: 9\n"
          ]
        }
      ]
    },
    {
      "cell_type": "markdown",
      "source": [
        "**Q17) Write a code that generates the squares of even numbers from a given list.**"
      ],
      "metadata": {
        "id": "IlS9c65pvdCf"
      }
    },
    {
      "cell_type": "code",
      "source": [
        "def even_squares(numbers):\n",
        "  for num in numbers:\n",
        "    if num%2 == 0:\n",
        "      yield num**2\n",
        "\n",
        "numbers = [0,1,2,3,4,5,6,7,8,9]\n",
        "generate_squares = even_squares(numbers)\n",
        "\n",
        "for even_square in generate_squares:\n",
        "  print(even_square)"
      ],
      "metadata": {
        "colab": {
          "base_uri": "https://localhost:8080/"
        },
        "id": "_J-aiC1jwRqz",
        "outputId": "11b32a51-1a7b-4b8a-9133-bcd8254d4764"
      },
      "execution_count": null,
      "outputs": [
        {
          "output_type": "stream",
          "name": "stdout",
          "text": [
            "0\n",
            "4\n",
            "16\n",
            "36\n",
            "64\n"
          ]
        }
      ]
    },
    {
      "cell_type": "markdown",
      "source": [
        "**Q18) Write a code that calculates the product of positive numbers from a given list.**"
      ],
      "metadata": {
        "id": "ewKt79oUxWNO"
      }
    },
    {
      "cell_type": "code",
      "source": [
        "def product(numbers):\n",
        "  result = 1\n",
        "  for num in numbers:\n",
        "    if num > 0:\n",
        "      result *= num\n",
        "  return result\n",
        "\n",
        "numbers = [-5,-4,-3,-2,-1,0,1,2,3,4,5]\n",
        "positive = product(numbers)\n",
        "\n",
        "print(f\"The product of positive numbers from a given list: {positive}\")"
      ],
      "metadata": {
        "colab": {
          "base_uri": "https://localhost:8080/"
        },
        "id": "M39J0E9wxmbp",
        "outputId": "ef25593e-cfea-49f2-dae3-c625b203afc1"
      },
      "execution_count": null,
      "outputs": [
        {
          "output_type": "stream",
          "name": "stdout",
          "text": [
            "The product of positive numbers from a given list: 120\n"
          ]
        }
      ]
    },
    {
      "cell_type": "markdown",
      "source": [
        "**Q19) Write a code that doubles the value of odd numbers from a given list.**"
      ],
      "metadata": {
        "id": "Hg3E1lIy0kkN"
      }
    },
    {
      "cell_type": "code",
      "source": [
        "def double_value(numbers):\n",
        "  for num in numbers:\n",
        "    if num%2 != 0:\n",
        "      yield num*2\n",
        "\n",
        "numbers = [0,1,2,3,4,5,6,7,8,9]\n",
        "double_odd = double_value(numbers)\n",
        "\n",
        "for odd_doubled in double_odd:\n",
        "  print(odd_doubled , end=' ')"
      ],
      "metadata": {
        "colab": {
          "base_uri": "https://localhost:8080/"
        },
        "id": "GsIgcjWX0zRg",
        "outputId": "aafcde9d-4383-42ce-947d-db2ed9a60491"
      },
      "execution_count": null,
      "outputs": [
        {
          "output_type": "stream",
          "name": "stdout",
          "text": [
            "2 6 10 14 18 "
          ]
        }
      ]
    },
    {
      "cell_type": "markdown",
      "source": [
        "**Q20) Write a code that calculates the sum of cubes of numbers from a given list.**"
      ],
      "metadata": {
        "id": "Ji2uSLYt4Avt"
      }
    },
    {
      "cell_type": "code",
      "source": [
        "def sum_of_cubes(numbers):\n",
        "  sum = 0\n",
        "  for num in numbers:\n",
        "    sum += num**3\n",
        "  return sum\n",
        "\n",
        "numbers = [1,2,3,4,5]\n",
        "cube_sum = sum_of_cubes(numbers)\n",
        "\n",
        "print(f\"The sum of cubes of numbers from a given list: {cube_sum}\")"
      ],
      "metadata": {
        "colab": {
          "base_uri": "https://localhost:8080/"
        },
        "id": "tnmuH0mf52g4",
        "outputId": "441c948d-3456-42c8-e549-e9af9da3195b"
      },
      "execution_count": null,
      "outputs": [
        {
          "output_type": "stream",
          "name": "stdout",
          "text": [
            "The sum of cubes of numbers from a given list: 225\n"
          ]
        }
      ]
    },
    {
      "cell_type": "markdown",
      "source": [
        "**Q21) Write a code that filters out prime numbers from a given list.**"
      ],
      "metadata": {
        "id": "3HHYyywd6Z9l"
      }
    },
    {
      "cell_type": "code",
      "source": [
        "def prime_numbers(numbers):\n",
        "  for num in numbers:\n",
        "    if num > 1:\n",
        "      for i in range(2, int(num**0.5)+1):\n",
        "        if (num % i) == 0:\n",
        "          break\n",
        "      else:\n",
        "        yield num\n",
        "\n",
        "numbers = [0,1,2,3,4,5,6,7,8,9]\n",
        "prime_numbers = prime_numbers(numbers)\n",
        "\n",
        "for prime in prime_numbers:\n",
        "  print(prime, end=' ')"
      ],
      "metadata": {
        "colab": {
          "base_uri": "https://localhost:8080/"
        },
        "id": "kH3-Swii7Ucq",
        "outputId": "bb756a33-1cc1-4866-c786-c748449367ce"
      },
      "execution_count": null,
      "outputs": [
        {
          "output_type": "stream",
          "name": "stdout",
          "text": [
            "2 3 5 7 "
          ]
        }
      ]
    },
    {
      "cell_type": "markdown",
      "source": [
        "**Q22) Write a code that uses lambda function to calculate the sum of two numbers.**"
      ],
      "metadata": {
        "id": "WMKNj80u26m6"
      }
    },
    {
      "cell_type": "code",
      "source": [
        "sum = lambda x , y : x+y\n",
        "\n",
        "x = int(input(\"Enter a number: \"))\n",
        "y = int(input(\"Enter a number: \"))\n",
        "\n",
        "print(f\"Sum = {sum(x,y)}\")"
      ],
      "metadata": {
        "colab": {
          "base_uri": "https://localhost:8080/"
        },
        "id": "hezhjSDd2Usx",
        "outputId": "00f72a94-a8b0-4cab-aa9c-b57827d04105"
      },
      "execution_count": null,
      "outputs": [
        {
          "output_type": "stream",
          "name": "stdout",
          "text": [
            "Enter a number: 2\n",
            "Enter a number: 3\n",
            "Sum = 5\n"
          ]
        }
      ]
    },
    {
      "cell_type": "markdown",
      "source": [
        "**Q23) Write a code that uses a lambda function to calculate the square of a given number.**"
      ],
      "metadata": {
        "id": "K_t6obZm3MYQ"
      }
    },
    {
      "cell_type": "code",
      "source": [
        "square = lambda x : x**2\n",
        "\n",
        "x = int(input(\"Enter a number:\"))\n",
        "\n",
        "print(f\"The square of the given number is : {square(x)}\")"
      ],
      "metadata": {
        "colab": {
          "base_uri": "https://localhost:8080/"
        },
        "id": "8rSsDAul3uLL",
        "outputId": "d0a0204a-5721-43a5-ec66-ed7bfef5ba17"
      },
      "execution_count": null,
      "outputs": [
        {
          "output_type": "stream",
          "name": "stdout",
          "text": [
            "Enter a number:6\n",
            "The square of the given number is : 36\n"
          ]
        }
      ]
    },
    {
      "cell_type": "markdown",
      "source": [
        "**Q24) Write a code that uses a lambda function to check whether a given number is even or odd.**"
      ],
      "metadata": {
        "id": "1-QZt4c84dVg"
      }
    },
    {
      "cell_type": "code",
      "source": [
        "is_even = lambda x : x%2 == 0\n",
        "\n",
        "x = int(input(\"Enter a number: \"))\n",
        "\n",
        "if is_even(x):\n",
        "  print(f\"The {x} is even.\")\n",
        "else:\n",
        "  print(f\"The {x} is odd.\")"
      ],
      "metadata": {
        "colab": {
          "base_uri": "https://localhost:8080/"
        },
        "id": "r97T5s9o5ii2",
        "outputId": "b3aa7d70-10d1-46b2-f65b-34f4202bd034"
      },
      "execution_count": null,
      "outputs": [
        {
          "output_type": "stream",
          "name": "stdout",
          "text": [
            "Enter a number: 9\n",
            "The 9 is odd.\n"
          ]
        }
      ]
    },
    {
      "cell_type": "markdown",
      "source": [
        "**Q25) Write a code that uses a lambda funnction to concatenate two strings.**"
      ],
      "metadata": {
        "id": "evgmSW7s5wjy"
      }
    },
    {
      "cell_type": "code",
      "source": [
        "concatenate = lambda string1 , string2 : string1+string2\n",
        "\n",
        "string1 = str(input(\"Enter a string: \"))\n",
        "string2 = str(input(\"Enter a string :\"))\n",
        "\n",
        "print(f\"Concatenation of two strings : {concatenate(string1,string2)}\")"
      ],
      "metadata": {
        "colab": {
          "base_uri": "https://localhost:8080/"
        },
        "id": "UeDv5nrw5_p2",
        "outputId": "d50601c0-93f9-4803-f906-e090fdf5a786"
      },
      "execution_count": null,
      "outputs": [
        {
          "output_type": "stream",
          "name": "stdout",
          "text": [
            "Enter a string: Data Science \n",
            "Enter a string :Gen AI\n",
            "Concatenation of two strings : Data Science Gen AI\n"
          ]
        }
      ]
    },
    {
      "cell_type": "markdown",
      "source": [
        "**Q26) Write a code that uses a lambda function to find the maximum of given three numbers.**"
      ],
      "metadata": {
        "id": "ufkJplQZ7dIY"
      }
    },
    {
      "cell_type": "code",
      "source": [
        "find_max = lambda x , y , z : max(x,y,z)\n",
        "\n",
        "x = int(input(\"Enter the first number: \"))\n",
        "y = int(input(\"Enter the second number: \"))\n",
        "z = int(input(\"Enter the third number: \"))\n",
        "\n",
        "print(f\"The maximum of {x}, {y}, and {z} is: {find_max(x, y, z)}\")"
      ],
      "metadata": {
        "colab": {
          "base_uri": "https://localhost:8080/"
        },
        "id": "a7W21WrK8FZ-",
        "outputId": "f7be3b66-85ba-4cbe-c1ec-c7908cb98f2a"
      },
      "execution_count": null,
      "outputs": [
        {
          "output_type": "stream",
          "name": "stdout",
          "text": [
            "Enter the first number: 30\n",
            "Enter the second number: 72\n",
            "Enter the third number: 86\n",
            "The maximum of 30, 72, and 86 is: 86\n"
          ]
        }
      ]
    },
    {
      "cell_type": "markdown",
      "source": [
        "**Q27) What is encapsulation in OOP.**\n",
        "\n",
        "Encapsulation in object-oriented programming (OOP) is the bundling of data and methods (functions) that operate on that data into a single unit, typically referred to as a class. It hides the internal state of an object from the outside world and provides controlled access to it through well-defined interfaces. Encapsulation helps in achieving data hiding, abstraction, and access control, thereby enhancing the security, maintainability, and flexibility of the code."
      ],
      "metadata": {
        "id": "EqRpesn48Xbg"
      }
    },
    {
      "cell_type": "markdown",
      "source": [
        "**Q28) Explain the use of access modifiers in python classes.**\n",
        "\n",
        "Access modifiers in Python are more about conventions and signaling intent than strict enforcement:-\n",
        "\n",
        "Public: By default, all attributes and methods in Python classes are public, meaning they can be accessed from outside the class. Public members are commonly used for interface methods or attributes that are intended to be accessed and modified freely from outside the class.\n",
        "\n",
        "Protected: Conventionally, attributes and methods intended for internal use within a class or its subclasses are prefixed with a single underscore (_). While this doesn't restrict access, it serves as a signal that these members are intended for internal use only. Protected members are useful for implementation details that subclasses may need to access, but external users should avoid using them directly.\n",
        "\n",
        "Private: Attributes and methods intended to be truly private are prefixed with double underscores (__). Python name-mangles these names to discourage direct access from outside the class. While technically still accessible, it's generally discouraged to access private members directly. Private members are useful for hiding implementation details and reducing the risk of unintended interference from external code."
      ],
      "metadata": {
        "id": "8pYjN7l59FSW"
      }
    },
    {
      "cell_type": "markdown",
      "source": [
        "**Q29) What is inheritance in OOP.**\n",
        "\n",
        "In object-oriented programming (OOP), inheritance allows a new class (subclass) to inherit attributes and methods from an existing class (superclass). This means the subclass can reuse code from the superclass, reducing redundancy and promoting code reuse.\n",
        "\n",
        "For instance, consider a superclass called Animal with attributes and methods like name, age, and speak(). Now, if we want to create a subclass called Dog, we can inherit from the Animal class. The Dog subclass will automatically have attributes like name and age, as well as the speak() method. Additionally, we can add specific attributes or methods to the Dog class, such as breed.\n",
        "\n",
        "Inheritance simplifies code development and maintenance by allowing us to build upon existing classes. It encourages a hierarchical structure in programming, where classes can inherit functionality from parent classes while adding their own unique features.\n",
        "\n"
      ],
      "metadata": {
        "id": "Ahtzf9sv-f7b"
      }
    },
    {
      "cell_type": "markdown",
      "source": [
        "**Q30) Define Polymorphism in OOP.**\n",
        "\n",
        "Polymorphism is a fundamental concept in object-oriented programming (OOP) that allows objects of different classes to be treated as objects of a common superclass. It enables a single interface to represent multiple underlying forms or types.\n",
        "\n",
        "There are two main types of polymorphism:\n",
        "\n",
        "Compile-time Polymorphism (Static Binding or Early Binding): This type of polymorphism is resolved during compile time. It is achieved through method overloading and operator overloading. Method overloading involves defining multiple methods in a class with the same name but different parameters. The appropriate method is called based on the number and types of arguments at compile time.\n",
        "\n",
        "Run-time Polymorphism (Dynamic Binding or Late Binding): This type of polymorphism is resolved during runtime. It is achieved through method overriding. Method overriding occurs when a subclass provides a specific implementation of a method that is already defined in its superclass. The decision of which method to call is made at runtime based on the actual type of the object.\n",
        "\n",
        "Polymorphism simplifies code by allowing different objects to be treated uniformly through a common interface, without needing to know their specific types. It promotes code flexibility, reusability, and extensibility, making it a powerful tool in OOP."
      ],
      "metadata": {
        "id": "eufqu7nC_TfJ"
      }
    },
    {
      "cell_type": "markdown",
      "source": [
        "**Q31) Explain method overriding in python.**\n",
        "\n",
        "Method overriding in Python refers to the process of defining a method in a subclass that already exists in the superclass with the same name and signature. When a method is called on an object of the subclass, the method defined in the subclass overrides the implementation of the method in the superclass.\n"
      ],
      "metadata": {
        "id": "vtxQALiB_3qy"
      }
    },
    {
      "cell_type": "markdown",
      "source": [
        "**Q32) Define a parent class Animal with a method make_sound that prints \"Generic Animal Sound\". Create a child class Dog inheriting from Animal with a mathod make_sound that prints \"Woof!\"**"
      ],
      "metadata": {
        "id": "22yOpUwmaoVZ"
      }
    },
    {
      "cell_type": "code",
      "source": [
        "class Animal:\n",
        "    def make_sound(self):\n",
        "        print(\"Generic animal sound\")\n",
        "\n",
        "class Dog(Animal):\n",
        "    def make_sound(self):\n",
        "        print(\"Woof!\")\n",
        "\n",
        "dog = Dog()\n",
        "dog.make_sound()"
      ],
      "metadata": {
        "colab": {
          "base_uri": "https://localhost:8080/"
        },
        "id": "zBQtqrg8bJnv",
        "outputId": "e1a62f95-fc70-4e9b-c1bc-3758a5e6e3d3"
      },
      "execution_count": null,
      "outputs": [
        {
          "output_type": "stream",
          "name": "stdout",
          "text": [
            "Woof!\n"
          ]
        }
      ]
    },
    {
      "cell_type": "markdown",
      "source": [
        "**Q33) Define a method in the Animal class that prints \"Animal moves\".Override the move method in the Dog class to print \"Dog runs\".**"
      ],
      "metadata": {
        "id": "JUH9tuU6cDOn"
      }
    },
    {
      "cell_type": "code",
      "source": [
        "class Animal:\n",
        "  def move(self):\n",
        "    print(\"Animal moves\")\n",
        "\n",
        "class Dog(Animal):\n",
        "  def move(self):\n",
        "    print(\"Dog runs\")\n",
        "\n",
        "dog = Dog()\n",
        "dog.move()"
      ],
      "metadata": {
        "colab": {
          "base_uri": "https://localhost:8080/"
        },
        "id": "bXOQPLIRciE8",
        "outputId": "e5d13864-39fe-4db3-b59f-8131e922b443"
      },
      "execution_count": null,
      "outputs": [
        {
          "output_type": "stream",
          "name": "stdout",
          "text": [
            "Dog runs\n"
          ]
        }
      ]
    },
    {
      "cell_type": "markdown",
      "source": [
        "**Q34) Create a class Mammal with a method reproduce that prints \"Giving birth to live young\". Create a class DogMammal inheriting from both Dog and Mammal.**"
      ],
      "metadata": {
        "id": "euEJ53TZdHq3"
      }
    },
    {
      "cell_type": "code",
      "source": [
        "class Mammal:\n",
        "    def reproduce(self):\n",
        "        print(\"Giving birth to live young\")\n",
        "\n",
        "class DogMammal(Dog, Mammal):\n",
        "    pass\n",
        "\n",
        "dog_mammal = DogMammal()\n",
        "dog_mammal.reproduce()"
      ],
      "metadata": {
        "colab": {
          "base_uri": "https://localhost:8080/"
        },
        "id": "MNbs6gwHegrZ",
        "outputId": "000a3ec1-e377-4569-bc54-2287fa12f7cb"
      },
      "execution_count": null,
      "outputs": [
        {
          "output_type": "stream",
          "name": "stdout",
          "text": [
            "Giving birth to live young\n"
          ]
        }
      ]
    },
    {
      "cell_type": "markdown",
      "source": [
        "**Q35) Create a class GermanShepherd inheriting from Dog and override the make_sound method to print \"Bark!\".**"
      ],
      "metadata": {
        "id": "MZ4kf56Kexzs"
      }
    },
    {
      "cell_type": "code",
      "source": [
        "class GermanShepherd(Dog):\n",
        "  def make_sound(self):\n",
        "    print(\"Bark!\")\n",
        "\n",
        "german = GermanShepherd()\n",
        "german.make_sound()"
      ],
      "metadata": {
        "colab": {
          "base_uri": "https://localhost:8080/"
        },
        "id": "GaI5pK1tfI0x",
        "outputId": "d8639ed9-de9b-4435-ae9e-ae008e45f54c"
      },
      "execution_count": null,
      "outputs": [
        {
          "output_type": "stream",
          "name": "stdout",
          "text": [
            "Bark!\n"
          ]
        }
      ]
    },
    {
      "cell_type": "markdown",
      "source": [
        "**Q36) Define Constructors in both the Animal and Dog classes with different initialization parameters.**"
      ],
      "metadata": {
        "id": "92Matw7qfmWf"
      }
    },
    {
      "cell_type": "code",
      "source": [
        "class Animal:\n",
        "    def __init__(self, species, age):\n",
        "        self.species = species\n",
        "        self.age = age\n",
        "\n",
        "    def move(self):\n",
        "        print(f\"{self.species} moves\")\n",
        "\n",
        "class Dog(Animal):\n",
        "    def __init__(self, species, age, name):\n",
        "        super().__init__(species, age)\n",
        "        self.name = name\n",
        "\n",
        "    def make_sound(self):\n",
        "        print(f\"{self.name} barks\")\n",
        "\n",
        "animal = Animal(\"Generic\", 5)\n",
        "dog = Dog(\"Canine\", 3, \"Buddy\")\n",
        "\n",
        "print(animal.species)\n",
        "print(animal.age)\n",
        "\n",
        "print(dog.species)\n",
        "print(dog.age)\n",
        "print(dog.name)\n",
        "\n",
        "animal.move()\n",
        "dog.move()\n",
        "dog.make_sound()"
      ],
      "metadata": {
        "colab": {
          "base_uri": "https://localhost:8080/"
        },
        "id": "_8v_djjUhBb7",
        "outputId": "865c5d27-e30c-4968-c239-864dd0c4b549"
      },
      "execution_count": null,
      "outputs": [
        {
          "output_type": "stream",
          "name": "stdout",
          "text": [
            "Generic\n",
            "5\n",
            "Canine\n",
            "3\n",
            "Buddy\n",
            "Generic moves\n",
            "Canine moves\n",
            "Buddy barks\n"
          ]
        }
      ]
    },
    {
      "cell_type": "markdown",
      "source": [
        "**Q37) What is abstraction in Python? How is it implemented?**\n",
        "\n",
        "Abstraction in Python refers to the concept of hiding the complex implementation details of a class and only exposing the essential features to the outside world. It allows programmers to focus on the functionality of the class rather than its internal workings, thus simplifying the usage of the class and promoting code reusability.\n",
        "It is implemented using Classes and Objects where internal working of the class is hidden , Only template is given."
      ],
      "metadata": {
        "id": "aCjEv6njhtXD"
      }
    },
    {
      "cell_type": "markdown",
      "source": [
        "**Q38) Explain the importance of Abstraction in Object Oriented Programming language.**\n",
        "\n",
        "Simplicity: Abstraction simplifies code by hiding unnecessary details, making it easier to understand and maintain.\n",
        "\n",
        "Encapsulation: It encapsulates the internal workings of a class, promoting better organization and reducing dependencies between components.\n",
        "\n",
        "Reusability: Abstract classes and interfaces provide a blueprint for creating similar objects, promoting code reuse and minimizing redundancy.\n",
        "\n",
        "Modularity: Abstraction facilitates modular design by breaking down complex systems into smaller, more manageable components with well-defined interfaces.\n",
        "\n",
        "Polymorphism: It enables polymorphic behavior, allowing objects of different types to be treated uniformly based on their common interface."
      ],
      "metadata": {
        "id": "_-S5hpkljLM5"
      }
    },
    {
      "cell_type": "markdown",
      "source": [
        "**Q39) How are abstract methods different from regular methods in python.**\n",
        "\n",
        "Abstract methods in Python are different from regular methods in that they are declared but not implemented in the abstract class.\n",
        "\n",
        "Declaration vs. Implementation: Abstract methods are declared in the abstract class but not implemented. They only contain method signatures, without any actual code.\n",
        "Regular methods, on the other hand, are both declared and implemented in a class. They contain both the method signature and the code to be executed when the method is called.\n",
        "\n",
        "Purpose: Abstract methods serve as placeholders for methods that must be implemented by subclasses. They define a common interface that subclasses must adhere to but leave the implementation details to the subclasses.\n",
        "Regular methods provide concrete functionality within a class. They define the behavior of objects instantiated from the class.\n",
        "\n",
        "Use Case: Abstract methods are used when you want to define a common interface for a group of related classes but do not want to provide a default implementation in the superclass.\n",
        "Regular methods are used to encapsulate behavior that is common to all instances of a class or specific to an instance.\n",
        "\n",
        "Implementation Requirement: Subclasses of a class containing abstract methods must provide concrete implementations for all abstract methods. Otherwise, they will also be considered abstract classes and cannot be instantiated.\n",
        "Subclasses of a class containing regular methods may override those methods if necessary, but it is not mandatory."
      ],
      "metadata": {
        "id": "qNt7xqT0mcbx"
      }
    },
    {
      "cell_type": "markdown",
      "source": [
        "**Q40) How can you achieve abstraction using interfaces in python.**"
      ],
      "metadata": {
        "id": "brLlz2iWoT2d"
      }
    },
    {
      "cell_type": "code",
      "source": [
        "from abc import ABC, abstractmethod\n",
        "\n",
        "# Define the abstract base class (interface)\n",
        "class Shape(ABC):\n",
        "    @abstractmethod\n",
        "    def area(self):\n",
        "        pass\n",
        "\n",
        "# Concrete subclass implementing the interface\n",
        "class Rectangle(Shape):\n",
        "    def __init__(self, width, height):\n",
        "        self.width = width\n",
        "        self.height = height\n",
        "\n",
        "    def area(self):\n",
        "        return self.width * self.height\n",
        "\n",
        "# Concrete subclass implementing the interface\n",
        "class Circle(Shape):\n",
        "    def __init__(self, radius):\n",
        "        self.radius = radius\n",
        "\n",
        "    def area(self):\n",
        "        return 3.14 * self.radius ** 2\n",
        "\n",
        "rectangle = Rectangle(5, 4)\n",
        "print(\"Rectangle Area:\", rectangle.area())\n",
        "\n",
        "circle = Circle(3)\n",
        "print(\"Circle Area:\", circle.area())"
      ],
      "metadata": {
        "colab": {
          "base_uri": "https://localhost:8080/"
        },
        "id": "okoAB-fgpR9O",
        "outputId": "7bc42ddc-7e10-40ed-c9b8-4611a354d48e"
      },
      "execution_count": null,
      "outputs": [
        {
          "output_type": "stream",
          "name": "stdout",
          "text": [
            "Rectangle Area: 20\n",
            "Circle Area: 28.26\n"
          ]
        }
      ]
    },
    {
      "cell_type": "markdown",
      "source": [
        "**Q41) Can you provide an example of how abstraction can be utilized to create a common interface for a group of related classes in Python.**"
      ],
      "metadata": {
        "id": "9krfN-AaqGOC"
      }
    },
    {
      "cell_type": "code",
      "source": [
        "from abc import ABC, abstractmethod\n",
        "\n",
        "# Defining the interface for vehicles\n",
        "class Vehicle(ABC):\n",
        "    @abstractmethod\n",
        "    def start(self):\n",
        "        pass\n",
        "\n",
        "    @abstractmethod\n",
        "    def stop(self):\n",
        "        pass\n",
        "\n",
        "class Car(Vehicle):\n",
        "    def start(self):\n",
        "        print(\"Car started\")\n",
        "\n",
        "    def stop(self):\n",
        "        print(\"Car stopped\")\n",
        "\n",
        "class Bicycle(Vehicle):\n",
        "    def start(self):\n",
        "        print(\"Bicycle started\")\n",
        "\n",
        "    def stop(self):\n",
        "        print(\"Bicycle stopped\")\n",
        "\n",
        "class Motorcycle(Vehicle):\n",
        "    def start(self):\n",
        "        print(\"Motorcycle started\")\n",
        "\n",
        "    def stop(self):\n",
        "        print(\"Motorcycle stopped\")\n",
        "\n",
        "car = Car()\n",
        "car.start()\n",
        "car.stop()\n",
        "\n",
        "bicycle = Bicycle()\n",
        "bicycle.start()\n",
        "bicycle.stop()\n",
        "\n",
        "motorcycle = Motorcycle()\n",
        "motorcycle.start()\n",
        "motorcycle.stop()"
      ],
      "metadata": {
        "colab": {
          "base_uri": "https://localhost:8080/"
        },
        "id": "HecwL0FpqbUY",
        "outputId": "e46baa3b-4a62-4243-c4c8-4b8ffd91a516"
      },
      "execution_count": null,
      "outputs": [
        {
          "output_type": "stream",
          "name": "stdout",
          "text": [
            "Car started\n",
            "Car stopped\n",
            "Bicycle started\n",
            "Bicycle stopped\n",
            "Motorcycle started\n",
            "Motorcycle stopped\n"
          ]
        }
      ]
    },
    {
      "cell_type": "markdown",
      "source": [
        "**Q42) How does Python achieve polymorphism through method overriding?**\n",
        "\n",
        "Python achieves polymorphism through method overriding:\n",
        "\n",
        "When a method is called on an object, Python first looks for the method in the class of the object itself.\n",
        "If the method is not found in the class, Python looks for the method in the superclass and continues up the inheritance hierarchy until the method is found or until the root class (typically object) is reached.\n",
        "If the method is found in a superclass, but there is an overridden implementation in a subclass, Python dynamically binds the call to the overridden method in the subclass.\n",
        "This dynamic binding mechanism allows Python to achieve polymorphism through method overriding. It enables objects of different types to be treated uniformly based on their common interface, even if they have different implementations of the same method."
      ],
      "metadata": {
        "id": "9TL54Rpsqv9Y"
      }
    },
    {
      "cell_type": "markdown",
      "source": [
        "**Q43) Define a base class with a method and a subclass that overrides the method.**"
      ],
      "metadata": {
        "id": "_pzhhj-lr8XW"
      }
    },
    {
      "cell_type": "code",
      "source": [
        "class Animal:\n",
        "  def sound(self):\n",
        "    print(\"Animal Sound\")\n",
        "\n",
        "class Cat(Animal):\n",
        "  def sound(self):\n",
        "    print(\"Cat Meows!\")\n",
        "\n",
        "cat = Cat()\n",
        "cat.sound()"
      ],
      "metadata": {
        "colab": {
          "base_uri": "https://localhost:8080/"
        },
        "id": "En_LKK3SsL0f",
        "outputId": "8d7e583e-2fca-4bcc-985c-62d920e104b3"
      },
      "execution_count": null,
      "outputs": [
        {
          "output_type": "stream",
          "name": "stdout",
          "text": [
            "Cat Meows!\n"
          ]
        }
      ]
    },
    {
      "cell_type": "markdown",
      "source": [
        "**Q44) Define a base class with a method and multiple subclasses overriden methods.**"
      ],
      "metadata": {
        "id": "sP-lp2hCs5uf"
      }
    },
    {
      "cell_type": "code",
      "source": [
        "#Base Class\n",
        "class Animal:\n",
        "    def sound(self):\n",
        "        print(\"Animal Sound\")\n",
        "\n",
        "class Cat(Animal):\n",
        "    def sound(self):\n",
        "        print(\"Cat Meows!\")\n",
        "\n",
        "class Dog(Animal):\n",
        "    def sound(self):\n",
        "        print(\"Dog Barks!\")\n",
        "\n",
        "class Horse(Animal):\n",
        "    def sound(self):\n",
        "        print(\"Horse Neighs!\")\n",
        "\n",
        "cat = Cat()\n",
        "cat.sound()\n",
        "\n",
        "dog = Dog()\n",
        "dog.sound()\n",
        "\n",
        "horse = Horse()\n",
        "horse.sound()"
      ],
      "metadata": {
        "colab": {
          "base_uri": "https://localhost:8080/"
        },
        "id": "Vs8rZrn6thMy",
        "outputId": "707aa069-8136-4ca9-9fb2-6b9a7a6f1153"
      },
      "execution_count": null,
      "outputs": [
        {
          "output_type": "stream",
          "name": "stdout",
          "text": [
            "Cat Meows!\n",
            "Dog Barks!\n",
            "Horse Neighs!\n"
          ]
        }
      ]
    },
    {
      "cell_type": "markdown",
      "source": [
        "**Q45) How does polymorphism improve code readability and reusability.**\n",
        "\n",
        "Polymorphism improves code readability by allowing objects of different types to be treated uniformly based on their common interface. This makes the code easier to understand and maintain as it promotes a more intuitive and expressive coding style. Additionally, polymorphism enhances code reusability by enabling the use of generic interfaces and abstract classes, facilitating code reuse across different parts of an application or even in different projects. It also promotes flexibility, extensibility, and the adoption of design patterns, leading to cleaner, more modular, and scalable software designs."
      ],
      "metadata": {
        "id": "djcrj-x3tw0G"
      }
    },
    {
      "cell_type": "markdown",
      "source": [
        "**Q46) Describe how Python supports polymorphism with duck typing.**\n",
        "\n",
        " Python supports polymorphism with duck typing:\n",
        "\n",
        "No Explicit Type Checking: Python does not require explicit type declarations for variables or function parameters. Instead, it relies on the presence of specific methods or behaviors.\n",
        "\n",
        "Dynamic Binding: Python uses dynamic binding to determine which method implementation to call at runtime. When a method is called on an object, Python looks for the method in the object's class and its parent classes, if any. If the method is found, it is executed.\n",
        "\n",
        "\"If It Walks Like a Duck and Quacks Like a Duck, It Must be a Duck\": This is the core principle of duck typing. If an object implements the required methods or behaviors, it is considered suitable for a certain operation, regardless of its actual type.\n",
        "\n",
        "Example:-"
      ],
      "metadata": {
        "id": "HzkMQrCOudFU"
      }
    },
    {
      "cell_type": "code",
      "source": [
        "class Duck:\n",
        "    def quack(self):\n",
        "        print(\"Quack!\")\n",
        "\n",
        "class Person:\n",
        "    def quack(self):\n",
        "        print(\"I'm quacking like a duck!\")\n",
        "\n",
        "def make_quack(obj):\n",
        "    obj.quack()\n",
        "\n",
        "duck = Duck()\n",
        "person = Person()\n",
        "\n",
        "make_quack(duck)    # Output: Quack!\n",
        "make_quack(person)  # Output: I'm quacking like a duck!"
      ],
      "metadata": {
        "colab": {
          "base_uri": "https://localhost:8080/"
        },
        "id": "wdQiM4S8vYX8",
        "outputId": "f4257999-b135-4e4e-cff0-9b7df3b35790"
      },
      "execution_count": null,
      "outputs": [
        {
          "output_type": "stream",
          "name": "stdout",
          "text": [
            "Quack!\n",
            "I'm quacking like a duck!\n"
          ]
        }
      ]
    },
    {
      "cell_type": "markdown",
      "source": [
        "**Q47) How can you achieve encapsulation in Python?**\n",
        "\n",
        "\n",
        "Encapsulation in Python can be achieved using classes and access modifiers.\n",
        "\n",
        "Define Classes: Encapsulation involves bundling the data (attributes) and behaviors (methods) that operate on the data into a single unit, known as a class.\n",
        "\n",
        "Use Access Modifiers: Python does not have explicit access modifiers like some other languages (e.g., Java), but we can achieve encapsulation by using naming conventions and properties.\n",
        "\n",
        "Private Attributes: Attributes can be made private by prefixing their names with double underscores (__). This makes them inaccessible outside the class.\n",
        "\n",
        "Protected Attributes: Attributes can be made protected by prefixing their names with a single underscore (_). This indicates that they are intended for internal use within the class and its subclasses.\n",
        "\n",
        "Provide Getter and Setter Methods: To access and modify the private or protected attributes, we can define getter and setter methods within the class. These methods provide controlled access to the attributes, allowing us to enforce validation rules or perform additional actions."
      ],
      "metadata": {
        "id": "aRT8Vq6BvUX9"
      }
    },
    {
      "cell_type": "code",
      "source": [
        "#Example\n",
        "class BankAccount:\n",
        "    def __init__(self, account_number, balance):\n",
        "        self.__account_number = account_number  # Private attribute\n",
        "        self.__balance = balance                # Private attribute\n",
        "\n",
        "    # Getter method for account number\n",
        "    def get_account_number(self):\n",
        "        return self.__account_number\n",
        "\n",
        "    # Getter method for balance\n",
        "    def get_balance(self):\n",
        "        return self.__balance\n",
        "\n",
        "    # Setter method for balance\n",
        "    def set_balance(self, new_balance):\n",
        "        if new_balance >= 0:\n",
        "            self.__balance = new_balance\n",
        "        else:\n",
        "            print(\"Error: Balance cannot be negative.\")\n",
        "\n",
        "# Creating an instance of the BankAccount class\n",
        "account = BankAccount(\"123456789\", 1000)\n",
        "\n",
        "# Accessing attributes using getter methods\n",
        "print(\"Account Number:\", account.get_account_number())  # Output: 123456789\n",
        "print(\"Balance:\", account.get_balance())               # Output: 1000\n",
        "\n",
        "# Modifying balance using setter method\n",
        "account.set_balance(1500)\n",
        "print(\"Updated Balance:\", account.get_balance())        # Output: 1500\n",
        "\n",
        "# Trying to access private attribute directly (will result in an AttributeError)\n",
        "# print(account.__balance)"
      ],
      "metadata": {
        "colab": {
          "base_uri": "https://localhost:8080/"
        },
        "id": "c2E-ZF3qw6__",
        "outputId": "8421a3c8-1007-476c-ab77-709faee84200"
      },
      "execution_count": null,
      "outputs": [
        {
          "output_type": "stream",
          "name": "stdout",
          "text": [
            "Account Number: 123456789\n",
            "Balance: 1000\n",
            "Updated Balance: 1500\n"
          ]
        }
      ]
    },
    {
      "cell_type": "markdown",
      "source": [
        "**Q48) Can encapsulation be bypassed in Python? If so , how?**\n",
        "\n",
        "\n",
        "In Python, encapsulation can be bypassed to some extent due to its dynamic nature and lack of strict access modifiers. However, encapsulation can still be enforced using naming conventions and documentation to indicate intended usage.\n",
        "\n",
        "Ways in which encapsulation can be bypassed in Python:\n",
        "\n",
        "Accessing Private Attributes: Although attributes prefixed with double underscores (__) are intended to be private, they can still be accessed from outside the class using a mangled name. Python does not enforce true encapsulation, so accessing private attributes directly is possible but discouraged.\n",
        "\n",
        "Changing Attribute Values: Private attributes can also be modified from outside the class using the mangled name technique, bypassing any validation or logic defined in setter methods.\n",
        "\n",
        "Monkey Patching: In Python, classes and objects can be modified dynamically at runtime. This allows for monkey patching, where methods and attributes of a class or object can be modified or replaced at runtime, potentially bypassing encapsulation.\n",
        "\n",
        "Using Documentation and Naming Conventions: While Python does not enforce encapsulation strictly, it is a convention in the Python community to use naming conventions and documentation to indicate which attributes and methods are intended for internal use only. Prefixing attribute names with a single underscore (_) is a common practice to indicate that they are intended to be protected."
      ],
      "metadata": {
        "id": "FWbVKnFXxp0-"
      }
    },
    {
      "cell_type": "markdown",
      "source": [
        "**Q49) Implement a class BankAccount with a private balance attribute. Include methods to deposit , withdraw and check the balance.**"
      ],
      "metadata": {
        "id": "D2Cpcm-ly2Nq"
      }
    },
    {
      "cell_type": "code",
      "source": [
        "class BankAccount:\n",
        "  def __init__ (self,balance):\n",
        "    self.__balance = balance\n",
        "\n",
        "  def deposit(self,amount):\n",
        "    self.__balance = self.__balance + amount\n",
        "\n",
        "  def withdraw(self,amount):\n",
        "    if self.__balance >= amount:\n",
        "      self.__balance = self.__balance - amount\n",
        "      return True\n",
        "    else:\n",
        "      return False\n",
        "\n",
        "  def check_balance(self):\n",
        "      return self.__balance\n",
        "\n",
        "account = BankAccount(10000)\n",
        "account.check_balance()\n",
        "account.deposit(5000)\n",
        "account.withdraw(10000)\n",
        "account.check_balance()"
      ],
      "metadata": {
        "colab": {
          "base_uri": "https://localhost:8080/"
        },
        "id": "sZ0S-hudzQ23",
        "outputId": "f61bdd6d-57c4-4fee-a1c9-1f992d5658bb"
      },
      "execution_count": null,
      "outputs": [
        {
          "output_type": "execute_result",
          "data": {
            "text/plain": [
              "5000"
            ]
          },
          "metadata": {},
          "execution_count": 19
        }
      ]
    },
    {
      "cell_type": "markdown",
      "source": [
        "**Q50) Develop a Person class with private attributes name and email , and methods to set and get the email.**"
      ],
      "metadata": {
        "id": "UhQvjR0j2w2V"
      }
    },
    {
      "cell_type": "code",
      "source": [
        "class Person:\n",
        "  def __init__ (self,name,email):\n",
        "    self.__name = name\n",
        "    self.__email = email\n",
        "\n",
        "  def set_email(self, new_email):\n",
        "        self.__email = new_email\n",
        "\n",
        "  def get_email(self):\n",
        "    return self.__email\n",
        "\n",
        "person = Person(\"Ajay\" , \"ajay123@gmail.com\")\n",
        "print(\"Email:\", person.get_email())\n",
        "\n",
        "person.set_email(\"ajaypwskills@gmail.com\")\n",
        "print(\"Updated Email:\", person.get_email())"
      ],
      "metadata": {
        "colab": {
          "base_uri": "https://localhost:8080/"
        },
        "id": "YEPfBTpU3K7T",
        "outputId": "bb757f3b-2747-421c-dc9c-f62d3b0209a7"
      },
      "execution_count": null,
      "outputs": [
        {
          "output_type": "stream",
          "name": "stdout",
          "text": [
            "Email: ajay123@gmail.com\n",
            "Updated Email: ajaypwskills@gmail.com\n"
          ]
        }
      ]
    },
    {
      "cell_type": "markdown",
      "source": [
        "**Q51) Why is encapsulation considered a pillar of OOPs?**\n",
        "\n",
        "Encapsulation in Object-Oriented Programming (OOP) is about bundling data and the methods that operate on that data into a single unit, known as a class. This unit hides the internal workings of an object, exposing only the necessary interfaces for interaction. Encapsulation promotes data hiding, abstraction, modularity, and code reusability, making software systems more robust, maintainable, and scalable."
      ],
      "metadata": {
        "id": "HUHFctINGFFL"
      }
    },
    {
      "cell_type": "markdown",
      "source": [
        "**Q52) Create a decorator in Python that adds functionality to a simple function by printing a message before and after the function execution.**"
      ],
      "metadata": {
        "id": "hOKbNDF5bK_0"
      }
    },
    {
      "cell_type": "code",
      "source": [
        "def message_decorator(func):\n",
        "    def wrapper(*args, **kwargs):\n",
        "        print(\"Before executing the function\")\n",
        "        result = func(*args, **kwargs)\n",
        "        print(\"After executing the function\")\n",
        "        return result\n",
        "    return wrapper\n",
        "\n",
        "@message_decorator\n",
        "def simple_function():\n",
        "    print(\"This is a simple function\")\n",
        "\n",
        "# Example usage\n",
        "simple_function()"
      ],
      "metadata": {
        "colab": {
          "base_uri": "https://localhost:8080/"
        },
        "id": "k9fKg_98b9hK",
        "outputId": "0aa2997a-b220-4d3e-9c20-a34cec4ce3c2"
      },
      "execution_count": 1,
      "outputs": [
        {
          "output_type": "stream",
          "name": "stdout",
          "text": [
            "Before executing the function\n",
            "This is a simple function\n",
            "After executing the function\n"
          ]
        }
      ]
    },
    {
      "cell_type": "markdown",
      "source": [
        "**Q53) Modify the decorator to accept arguments and print the function name along with the message.**"
      ],
      "metadata": {
        "id": "Pc1vbHf_cEme"
      }
    },
    {
      "cell_type": "code",
      "source": [
        "def message_decorator(message):\n",
        "    def decorator(func):\n",
        "        def wrapper(*args, **kwargs):\n",
        "            print(f\"Before executing {func.__name__}: {message}\")\n",
        "            result = func(*args, **kwargs)\n",
        "            print(f\"After executing {func.__name__}: {message}\")\n",
        "            return result\n",
        "        return wrapper\n",
        "    return decorator\n",
        "\n",
        "@message_decorator(\"performing some task\")\n",
        "def simple_function():\n",
        "    print(\"This is a simple function\")\n",
        "\n",
        "# Example usage\n",
        "simple_function()"
      ],
      "metadata": {
        "colab": {
          "base_uri": "https://localhost:8080/"
        },
        "id": "4-S1Mt31cYAh",
        "outputId": "b0485468-c09d-44e9-8c45-418689d3238c"
      },
      "execution_count": 2,
      "outputs": [
        {
          "output_type": "stream",
          "name": "stdout",
          "text": [
            "Before executing simple_function: performing some task\n",
            "This is a simple function\n",
            "After executing simple_function: performing some task\n"
          ]
        }
      ]
    },
    {
      "cell_type": "markdown",
      "source": [
        "**Q53) Create two decorators and apply them to a single function.Ensure that they are executed in the order they are applied.**"
      ],
      "metadata": {
        "id": "dNEc2GEwdOtY"
      }
    },
    {
      "cell_type": "code",
      "source": [
        "def decorator1(func):\n",
        "    def wrapper(*args, **kwargs):\n",
        "        print(\"Decorator 1 - Before function execution\")\n",
        "        result = func(*args, **kwargs)\n",
        "        print(\"Decorator 1 - After function execution\")\n",
        "        return result\n",
        "    return wrapper\n",
        "\n",
        "def decorator2(func):\n",
        "    def wrapper(*args, **kwargs):\n",
        "        print(\"Decorator 2 - Before function execution\")\n",
        "        result = func(*args, **kwargs)\n",
        "        print(\"Decorator 2 - After function execution\")\n",
        "        return result\n",
        "    return wrapper\n",
        "\n",
        "@decorator1\n",
        "@decorator2\n",
        "def simple_function():\n",
        "    print(\"This is a simple function\")\n",
        "\n",
        "# Example usage\n",
        "simple_function()"
      ],
      "metadata": {
        "colab": {
          "base_uri": "https://localhost:8080/"
        },
        "id": "iEr9glyGdSYo",
        "outputId": "0e29fb78-80b9-4eb6-95aa-7fd3e7e60354"
      },
      "execution_count": 3,
      "outputs": [
        {
          "output_type": "stream",
          "name": "stdout",
          "text": [
            "Decorator 1 - Before function execution\n",
            "Decorator 2 - Before function execution\n",
            "This is a simple function\n",
            "Decorator 2 - After function execution\n",
            "Decorator 1 - After function execution\n"
          ]
        }
      ]
    },
    {
      "cell_type": "markdown",
      "source": [
        "**Q54) Modify the decorator and print the function name along with the message.**"
      ],
      "metadata": {
        "id": "Q4k8dlewdjQW"
      }
    },
    {
      "cell_type": "code",
      "source": [
        "def decorator1(message):\n",
        "    def decorator(func):\n",
        "        def wrapper(*args, **kwargs):\n",
        "            print(f\"{message} - Before {func.__name__} execution\")\n",
        "            result = func(*args, **kwargs)\n",
        "            print(f\"{message} - After {func.__name__} execution\")\n",
        "            return result\n",
        "        return wrapper\n",
        "    return decorator\n",
        "\n",
        "def decorator2(message):\n",
        "    def decorator(func):\n",
        "        def wrapper(*args, **kwargs):\n",
        "            print(f\"{message} - Before {func.__name__} execution\")\n",
        "            result = func(*args, **kwargs)\n",
        "            print(f\"{message} - After {func.__name__} execution\")\n",
        "            return result\n",
        "        return wrapper\n",
        "    return decorator\n",
        "\n",
        "@decorator1(\"Decorator 1\")\n",
        "@decorator2(\"Decorator 2\")\n",
        "def simple_function():\n",
        "    print(\"This is a simple function\")\n",
        "\n",
        "# Example usage\n",
        "simple_function()"
      ],
      "metadata": {
        "colab": {
          "base_uri": "https://localhost:8080/"
        },
        "id": "nhDgvad2eDS_",
        "outputId": "b818558b-ddaf-48b7-a1fa-3ed8798e94c4"
      },
      "execution_count": 4,
      "outputs": [
        {
          "output_type": "stream",
          "name": "stdout",
          "text": [
            "Decorator 1 - Before wrapper execution\n",
            "Decorator 2 - Before simple_function execution\n",
            "This is a simple function\n",
            "Decorator 2 - After simple_function execution\n",
            "Decorator 1 - After wrapper execution\n"
          ]
        }
      ]
    },
    {
      "cell_type": "markdown",
      "source": [
        "**Q55) Modify the decorator to accept arguments and print the name along with the message.**"
      ],
      "metadata": {
        "id": "ELzTcV8eeMEP"
      }
    },
    {
      "cell_type": "code",
      "source": [
        "def decorator1(*args, **kwargs):\n",
        "    def decorator(func):\n",
        "        def wrapper(*args_func, **kwargs_func):\n",
        "            print(f\"{args} - Before {func.__name__} execution\")\n",
        "            result = func(*args_func, **kwargs_func)\n",
        "            print(f\"{args} - After {func.__name__} execution\")\n",
        "            return result\n",
        "        return wrapper\n",
        "    return decorator\n",
        "\n",
        "def decorator2(*args, **kwargs):\n",
        "    def decorator(func):\n",
        "        def wrapper(*args_func, **kwargs_func):\n",
        "            print(f\"{args} - Before {func.__name__} execution\")\n",
        "            result = func(*args_func, **kwargs_func)\n",
        "            print(f\"{args} - After {func.__name__} execution\")\n",
        "            return result\n",
        "        return wrapper\n",
        "    return decorator\n",
        "\n",
        "@decorator1(\"Decorator 1\")\n",
        "@decorator2(\"Decorator 2\")\n",
        "def simple_function():\n",
        "    print(\"This is a simple function\")\n",
        "\n",
        "# Example usage\n",
        "simple_function()"
      ],
      "metadata": {
        "colab": {
          "base_uri": "https://localhost:8080/"
        },
        "id": "Bv1BC1tIehjD",
        "outputId": "7b861fdd-0d5a-483e-8587-af853f076985"
      },
      "execution_count": 5,
      "outputs": [
        {
          "output_type": "stream",
          "name": "stdout",
          "text": [
            "('Decorator 1',) - Before wrapper execution\n",
            "('Decorator 2',) - Before simple_function execution\n",
            "This is a simple function\n",
            "('Decorator 2',) - After simple_function execution\n",
            "('Decorator 1',) - After wrapper execution\n"
          ]
        }
      ]
    },
    {
      "cell_type": "markdown",
      "source": [
        "**Q56)Create a decorator that preserves the metadata of the original function.**"
      ],
      "metadata": {
        "id": "K9TejhW5sHuh"
      }
    },
    {
      "cell_type": "code",
      "source": [
        "from functools import wraps\n",
        "\n",
        "def decorator(func):\n",
        "    @wraps(func)\n",
        "    def wrapper(*args, **kwargs):\n",
        "        print(\"Before function execution\")\n",
        "        result = func(*args, **kwargs)\n",
        "        print(\"After function execution\")\n",
        "        return result\n",
        "    return wrapper\n",
        "\n",
        "@decorator\n",
        "def my_function():\n",
        "    \"\"\"This is a sample function.\"\"\"\n",
        "    print(\"Inside the function\")\n",
        "\n",
        "print(\"Name:\", my_function.__name__)\n",
        "print(\"Docstring:\", my_function.__doc__)"
      ],
      "metadata": {
        "colab": {
          "base_uri": "https://localhost:8080/"
        },
        "id": "dtZxrG6-sl0N",
        "outputId": "ed4d91d1-3621-463c-a6a8-74b7642f632a"
      },
      "execution_count": 1,
      "outputs": [
        {
          "output_type": "stream",
          "name": "stdout",
          "text": [
            "Name: my_function\n",
            "Docstring: This is a sample function.\n"
          ]
        }
      ]
    },
    {
      "cell_type": "markdown",
      "source": [
        "**Q57) Create a Python a class 'Calculator' with a static method 'add' that takes in two numbers and return their sum.**"
      ],
      "metadata": {
        "id": "2FfJ1sKVtQIp"
      }
    },
    {
      "cell_type": "code",
      "source": [
        "class Calculator:\n",
        "    @staticmethod\n",
        "    def add(a, b):\n",
        "        return a + b\n",
        "\n",
        "result = Calculator.add(5, 3)\n",
        "print(result)"
      ],
      "metadata": {
        "colab": {
          "base_uri": "https://localhost:8080/"
        },
        "id": "dn3XnW87txLa",
        "outputId": "ff6e9d31-d291-4ba9-fd6f-a82eeb17ed93"
      },
      "execution_count": 2,
      "outputs": [
        {
          "output_type": "stream",
          "name": "stdout",
          "text": [
            "8\n"
          ]
        }
      ]
    },
    {
      "cell_type": "markdown",
      "source": [
        "**Q58) Create a Python class 'Employee' with a class 'method get_employee_count' that returns the total number of employees created.**"
      ],
      "metadata": {
        "id": "qmpUKSj7uHI4"
      }
    },
    {
      "cell_type": "code",
      "source": [
        "class Employee:\n",
        "    employee_count = 0\n",
        "\n",
        "    def __init__(self, name):\n",
        "        self.name = name\n",
        "        Employee.employee_count += 1\n",
        "\n",
        "    @classmethod\n",
        "    def get_employee_count(cls):\n",
        "        return cls.employee_count\n",
        "\n",
        "emp1 = Employee(\"John\")\n",
        "emp2 = Employee(\"Alice\")\n",
        "emp3 = Employee(\"Bob\")\n",
        "\n",
        "print(\"Total number of employees:\", Employee.get_employee_count())\n"
      ],
      "metadata": {
        "colab": {
          "base_uri": "https://localhost:8080/"
        },
        "id": "v_hxQBKfu0VC",
        "outputId": "b21cdc18-5081-483b-ccae-425b921b6e3b"
      },
      "execution_count": 3,
      "outputs": [
        {
          "output_type": "stream",
          "name": "stdout",
          "text": [
            "Total number of employees: 3\n"
          ]
        }
      ]
    },
    {
      "cell_type": "markdown",
      "source": [
        "**Q59) Create a Python class 'StringFormatter' with a static method 'reverse_string' that takes a string as input and returns its reverse.**"
      ],
      "metadata": {
        "id": "ht73qCPbvng7"
      }
    },
    {
      "cell_type": "code",
      "source": [
        "class StringFormatter:\n",
        "    @staticmethod\n",
        "    def reverse_string(input_string):\n",
        "        return input_string[::-1]\n",
        "\n",
        "reversed_string = StringFormatter.reverse_string(\"PWSkills!\")\n",
        "print(\"Reversed string:\", reversed_string)"
      ],
      "metadata": {
        "colab": {
          "base_uri": "https://localhost:8080/"
        },
        "id": "l4QTIELewGTi",
        "outputId": "6a803bc8-cb76-4f38-9c42-60fc5f8df7d8"
      },
      "execution_count": 4,
      "outputs": [
        {
          "output_type": "stream",
          "name": "stdout",
          "text": [
            "Reversed string: !sllikSWP\n"
          ]
        }
      ]
    },
    {
      "cell_type": "markdown",
      "source": [
        "**Q60) Create a Python class 'Circle' with a class method 'calculate_area' that calculates the area of a circle given its radius.**"
      ],
      "metadata": {
        "id": "W2NM3cnnwz4S"
      }
    },
    {
      "cell_type": "code",
      "source": [
        "class Circle:\n",
        "  def calculate_area(radius):\n",
        "    area_circle = 3.14*radius**2\n",
        "    return area_circle\n",
        "\n",
        "Circle.calculate_area(5)\n"
      ],
      "metadata": {
        "colab": {
          "base_uri": "https://localhost:8080/"
        },
        "id": "544ZrFusxVbL",
        "outputId": "642e13d2-323f-476e-92ba-5add115d0da9"
      },
      "execution_count": 6,
      "outputs": [
        {
          "output_type": "execute_result",
          "data": {
            "text/plain": [
              "78.5"
            ]
          },
          "metadata": {},
          "execution_count": 6
        }
      ]
    },
    {
      "cell_type": "markdown",
      "source": [
        "**Q61) Create a Python class 'TemperatureConverter' with a static method 'celsius_to_fahrenheit' that converts Celsius to Fahrenheit.**"
      ],
      "metadata": {
        "id": "KMUXoHhazUW_"
      }
    },
    {
      "cell_type": "code",
      "source": [
        "class TemperatureConverter:\n",
        "\n",
        "  def celsius_to_fahrenheit(celsius):\n",
        "    fahrenheit = (celsius*1.8)+32\n",
        "    return fahrenheit\n",
        "\n",
        "celsius = int(input(\"Enter a Temperature in Celsius: \"))\n",
        "fahrenheit = TemperatureConverter.celsius_to_fahrenheit(celsius)\n",
        "print(\"Temperature in fahrenheit: \",fahrenheit)"
      ],
      "metadata": {
        "colab": {
          "base_uri": "https://localhost:8080/"
        },
        "id": "MODokFYXz0Ss",
        "outputId": "743b12c2-dbe3-494a-de29-69461359bae9"
      },
      "execution_count": 7,
      "outputs": [
        {
          "output_type": "stream",
          "name": "stdout",
          "text": [
            "Enter a Temperature in Celsius: 27\n",
            "Temperature in fahrenheit:  80.6\n"
          ]
        }
      ]
    },
    {
      "cell_type": "markdown",
      "source": [
        "**Q62) What is the purpose of the __str__() mathod in Python classes? Provide an example.**\n",
        "\n",
        "\n",
        "The __str__() method in Python classes is used to define a string representation of an object. When we call the str() function or use print() on an object, Python internally calls the __str__() method of that object to obtain a string representation."
      ],
      "metadata": {
        "id": "0vhegAz92T-B"
      }
    },
    {
      "cell_type": "code",
      "source": [
        "class Book:\n",
        "    def __init__(self, title, author):\n",
        "        self.title = title\n",
        "        self.author = author\n",
        "\n",
        "    def __str__(self):\n",
        "        return f\"Book: '{self.title}' by {self.author}\"\n",
        "\n",
        "# Create a Book object\n",
        "book = Book(\"Harry Potter\", \"J.K. Rowling\")\n",
        "\n",
        "# Print the Book object\n",
        "print(book)"
      ],
      "metadata": {
        "colab": {
          "base_uri": "https://localhost:8080/"
        },
        "id": "_FZRrWq43GGh",
        "outputId": "68e4ebf6-c97e-4b6d-9151-25caf2e1f9ba"
      },
      "execution_count": 8,
      "outputs": [
        {
          "output_type": "stream",
          "name": "stdout",
          "text": [
            "Book: 'Harry Potter' by J.K. Rowling\n"
          ]
        }
      ]
    },
    {
      "cell_type": "markdown",
      "source": [
        "**Q63) How does the __len__() method work in Python? Provide an example.**\n",
        "\n",
        "\n",
        "The __len__() method in Python allows us to define the length of an object. When we use the built-in len() function on an object, Python internally calls its __len__() method to determine its length."
      ],
      "metadata": {
        "id": "6J4llPLl3MK1"
      }
    },
    {
      "cell_type": "code",
      "source": [
        "class MyList:\n",
        "    def __init__(self, data):\n",
        "        self.data = data\n",
        "\n",
        "    def __len__(self):\n",
        "        return len(self.data)\n",
        "\n",
        "my_list = MyList([1, 2, 3, 4, 5])\n",
        "\n",
        "length = len(my_list)\n",
        "print(\"Length of my_list:\", length)"
      ],
      "metadata": {
        "colab": {
          "base_uri": "https://localhost:8080/"
        },
        "id": "Ke0yV0Zg3jxG",
        "outputId": "56426bcb-1fb2-45b7-e80d-809a54f84826"
      },
      "execution_count": 9,
      "outputs": [
        {
          "output_type": "stream",
          "name": "stdout",
          "text": [
            "Length of my_list: 5\n"
          ]
        }
      ]
    },
    {
      "cell_type": "markdown",
      "source": [
        "**Q64) Explain the usage of __add__() method in Python? Provide an example.**\n",
        "\n",
        "\n",
        "The __add__() method in Python allows us to define how objects of your class should behave when the + operator is used with them. It's used to specify the addition behavior for instances of our class."
      ],
      "metadata": {
        "id": "8J7j_MRl4DES"
      }
    },
    {
      "cell_type": "code",
      "source": [
        "class Number:\n",
        "    def __init__(self, value):\n",
        "        self.value = value\n",
        "\n",
        "    def __add__(self, other):\n",
        "        return self.value + other.value\n",
        "\n",
        "num1 = Number(5)\n",
        "num2 = Number(10)\n",
        "\n",
        "result = num1 + num2\n",
        "\n",
        "print(\"Result of addition:\", result)"
      ],
      "metadata": {
        "colab": {
          "base_uri": "https://localhost:8080/"
        },
        "id": "leeYKKmV4ezf",
        "outputId": "ba2be380-3d87-4e82-c677-27d3b0072ef6"
      },
      "execution_count": 10,
      "outputs": [
        {
          "output_type": "stream",
          "name": "stdout",
          "text": [
            "Result of addition: 15\n"
          ]
        }
      ]
    },
    {
      "cell_type": "markdown",
      "source": [
        "**Q65) What is the purpose of the __getitem__() method in Python? Provide an example.**\n",
        "\n",
        "\n",
        "The __getitem__() method in Python allows us to define the behavior of accessing items from our object using square brackets ([]). It is commonly used to make our objects iterable or to provide custom indexing behavior."
      ],
      "metadata": {
        "id": "_71YFR5x5EpB"
      }
    },
    {
      "cell_type": "code",
      "source": [
        "class MyList:\n",
        "    def __init__(self, data):\n",
        "        self.data = data\n",
        "\n",
        "    def __getitem__(self, index):\n",
        "        return self.data[index]\n",
        "\n",
        "my_list = MyList([1, 2, 3, 4, 5])\n",
        "\n",
        "print(\"Item at index 0:\", my_list[0])\n",
        "print(\"Item at index 3:\", my_list[3])"
      ],
      "metadata": {
        "colab": {
          "base_uri": "https://localhost:8080/"
        },
        "id": "yAVLoML05hlu",
        "outputId": "d6841ee0-8e33-47a1-f266-2cb3847c5c01"
      },
      "execution_count": 11,
      "outputs": [
        {
          "output_type": "stream",
          "name": "stdout",
          "text": [
            "Item at index 0: 1\n",
            "Item at index 3: 4\n"
          ]
        }
      ]
    },
    {
      "cell_type": "markdown",
      "source": [
        "**Q66) Explain the usage of the __iter__()  and __next__() methods in Python. Provide an example using iterators**\n",
        "\n",
        "__iter__() returns the iterator object itself.\n",
        "__next__() defines what happens when you ask for the next item. It returns the current item and moves to the next one until the end of the data is reached.\n",
        "We create an instance of MyIterator with some data ([1, 2, 3, 4, 5]) and then iterate over it using a for loop."
      ],
      "metadata": {
        "id": "e6DYKf3SDEv8"
      }
    },
    {
      "cell_type": "code",
      "source": [
        "class MyIterator:\n",
        "    def __init__(self, data):\n",
        "        self.data = data\n",
        "        self.index = 0\n",
        "\n",
        "    def __iter__(self):\n",
        "        return self\n",
        "\n",
        "    def __next__(self):\n",
        "        if self.index < len(self.data):\n",
        "            value = self.data[self.index]\n",
        "            self.index += 1\n",
        "            return value\n",
        "        else:\n",
        "            raise StopIteration\n",
        "\n",
        "# Creating an iterator object\n",
        "my_iterator = MyIterator([1, 2, 3, 4, 5])\n",
        "\n",
        "# Iterating over the iterator using a for loop\n",
        "for item in my_iterator:\n",
        "    print(item)"
      ],
      "metadata": {
        "colab": {
          "base_uri": "https://localhost:8080/"
        },
        "id": "qJka9iQ8KLD7",
        "outputId": "4e5016b2-0be1-4f14-a9d9-4e4150f71e0d"
      },
      "execution_count": 1,
      "outputs": [
        {
          "output_type": "stream",
          "name": "stdout",
          "text": [
            "1\n",
            "2\n",
            "3\n",
            "4\n",
            "5\n"
          ]
        }
      ]
    },
    {
      "cell_type": "markdown",
      "source": [
        "**Q67) What is the purpose of getter method in Python? Provide an example demonstrating the use of a getter method using property decorators.**\n",
        "\n",
        "In Python, getter methods are used to access the value of a private attribute in a class. By using the @property decorator, we can define getter methods to control and customize the way the attribute's value is retrieved."
      ],
      "metadata": {
        "id": "xA8m9axbK2Wm"
      }
    },
    {
      "cell_type": "code",
      "source": [
        "class Circle:\n",
        "    def __init__(self, radius):\n",
        "        self._radius = radius\n",
        "\n",
        "    @property\n",
        "    def radius(self):\n",
        "        return self._radius\n",
        "\n",
        "circle = Circle(5)\n",
        "print(circle.radius)  # Accessing the property using the getter method"
      ],
      "metadata": {
        "colab": {
          "base_uri": "https://localhost:8080/"
        },
        "id": "PAVogSwqNdCN",
        "outputId": "5401acb7-a937-43dc-afd9-c22cba6448ab"
      },
      "execution_count": 2,
      "outputs": [
        {
          "output_type": "stream",
          "name": "stdout",
          "text": [
            "5\n"
          ]
        }
      ]
    },
    {
      "cell_type": "markdown",
      "source": [
        "**Q68) Explain the role of setter methods in Python. Demonstrate how to use a setter method to modify a class attribute using property decorators.**\n",
        "\n",
        "In Python, setter methods are used to modify the value of a private attribute in a class. By using the @property decorator along with the @<property_name>.setter syntax, we can define setter methods to control and customize the way the attribute's value is set."
      ],
      "metadata": {
        "id": "JQllH1HkNvaU"
      }
    },
    {
      "cell_type": "code",
      "source": [
        "class Circle:\n",
        "    def __init__(self, radius):\n",
        "        self._radius = radius\n",
        "\n",
        "    @property\n",
        "    def radius(self):\n",
        "        return self._radius\n",
        "\n",
        "    @radius.setter\n",
        "    def radius(self, value):\n",
        "        if value <= 0:\n",
        "            raise ValueError(\"Radius must be positive.\")\n",
        "        self._radius = value\n",
        "\n",
        "circle = Circle(5)\n",
        "print(circle.radius)  # Accessing the property using the getter method\n",
        "circle.radius = 3  # Using the setter method to modify the value\n",
        "print(circle.radius)"
      ],
      "metadata": {
        "id": "ofkRWC2XOt2y"
      },
      "execution_count": null,
      "outputs": []
    },
    {
      "cell_type": "markdown",
      "source": [
        "**Q69) What is the purpose of @property decorator in Python? Provide an example illustrating its usage.**\n",
        "\n",
        "The @property decorator in Python is used to define methods in a class that can be accessed like attributes. This allows for more readable and pythonic code, as well as the ability to add validation or other logic when getting or setting the value of an attribute.  "
      ],
      "metadata": {
        "id": "RyroQf6kO7IH"
      }
    },
    {
      "cell_type": "code",
      "source": [
        "class Circle:\n",
        "    def __init__(self, radius):\n",
        "        self._radius = radius\n",
        "\n",
        "    @property\n",
        "    def radius(self):\n",
        "        return self._radius\n",
        "\n",
        "    @radius.setter\n",
        "    def radius(self, value):\n",
        "        if value <= 0:\n",
        "            raise ValueError(\"Radius must be positive.\")\n",
        "        self._radius = value\n",
        "\n",
        "circle = Circle(5)\n",
        "print(circle.radius)  # Accessing the property using the getter method\n",
        "circle.radius = 3  # Using the setter method to modify the value\n",
        "print(circle.radius)"
      ],
      "metadata": {
        "colab": {
          "base_uri": "https://localhost:8080/"
        },
        "id": "rqmW5oDkQVFC",
        "outputId": "3312c4ee-928c-4785-c0d7-2ed3c0b055e8"
      },
      "execution_count": 3,
      "outputs": [
        {
          "output_type": "stream",
          "name": "stdout",
          "text": [
            "5\n",
            "3\n"
          ]
        }
      ]
    },
    {
      "cell_type": "markdown",
      "source": [
        "**Q70) Explain the use of the @deleter decorator in Python property decorators. Provide a code example demonstrating its application.**\n",
        "\n",
        "The @deleter decorator in Python is used to define a method that is called when an attribute is deleted using the del keyword. When used with property decorators, it allows you to customize the behavior of attribute deletion."
      ],
      "metadata": {
        "id": "BBQIUJlLQebX"
      }
    },
    {
      "cell_type": "code",
      "source": [
        "class Circle:\n",
        "    def __init__(self, radius):\n",
        "        self._radius = radius\n",
        "\n",
        "    @property\n",
        "    def radius(self):\n",
        "        return self._radius\n",
        "\n",
        "    @radius.setter\n",
        "    def radius(self, value):\n",
        "        if value <= 0:\n",
        "            raise ValueError(\"Radius must be positive.\")\n",
        "        self._radius = value\n",
        "\n",
        "    @radius.deleter\n",
        "    def radius(self):\n",
        "        del self._radius\n",
        "\n",
        "circle = Circle(5)\n",
        "print(circle.radius)  # Accessing the property using the getter method\n",
        "del circle.radius"
      ],
      "metadata": {
        "colab": {
          "base_uri": "https://localhost:8080/"
        },
        "id": "x1kmGTssSisp",
        "outputId": "4c96508c-0553-41c3-c15b-c9136f24688e"
      },
      "execution_count": 9,
      "outputs": [
        {
          "output_type": "stream",
          "name": "stdout",
          "text": [
            "5\n"
          ]
        }
      ]
    },
    {
      "cell_type": "markdown",
      "source": [
        "**Q71) How does encapsulation relate to property decorators in Python? Provide an example showcasing encapsulation using property decorators.**\n",
        "\n",
        "Encapsulation and property decorators in Python are related in the sense that property decorators can be used to enforce encapsulation by controlling access to an object's attributes. By defining getter, setter, and deleter methods using property decorators, we can restrict how the attributes of an object can be accessed and modified.\n"
      ],
      "metadata": {
        "id": "jchTNCJhSmBL"
      }
    },
    {
      "cell_type": "code",
      "source": [
        "class Circle:\n",
        "    def __init__(self, radius):\n",
        "        self._radius = radius\n",
        "\n",
        "    @property\n",
        "    def radius(self):\n",
        "        return self._radius\n",
        "\n",
        "    @radius.setter\n",
        "    def radius(self, value):\n",
        "        if value <= 0:\n",
        "            raise ValueError(\"Radius must be positive.\")\n",
        "        self._radius = value\n",
        "\n",
        "    @radius.deleter\n",
        "    def radius(self):\n",
        "        del self._radius\n",
        "\n",
        "circle = Circle(5)\n",
        "print(circle.radius)  # Accessing the property using the getter method\n",
        "del circle.radius"
      ],
      "metadata": {
        "colab": {
          "base_uri": "https://localhost:8080/"
        },
        "id": "ro-bQrxJTP88",
        "outputId": "133457fa-c3ac-4dce-d8fc-7974b8a0ab91"
      },
      "execution_count": 13,
      "outputs": [
        {
          "output_type": "stream",
          "name": "stdout",
          "text": [
            "5\n"
          ]
        }
      ]
    }
  ]
}